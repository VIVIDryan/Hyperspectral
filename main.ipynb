{
 "cells": [
  {
   "cell_type": "code",
   "execution_count": 9,
   "metadata": {},
   "outputs": [],
   "source": [
    "\n",
    "import torch\n",
    "from torch import nn\n",
    "from d2l import torch as d2l\n",
    "import os\n",
    "import pandas as pd\n",
    "from torchvision.io import read_image\n",
    "from torch.utils.data import Dataset\n",
    "\n",
    "\n",
    "from torch.utils.data import DataLoader, Dataset\n",
    "from inferno.io.transform.base import Transform, Compose\n",
    "from inferno.io.transform.generic import Normalize, AsTorchBatch\n",
    "from inferno.io.transform.image import RandomCrop, RandomRotate, RandomFlip\n",
    "from libtiff import TIFF\n",
    "import os\n",
    "import torch\n",
    "import numpy as np\n"
   ]
  },
  {
   "attachments": {},
   "cell_type": "markdown",
   "metadata": {},
   "source": [
    "试打开tiff\n"
   ]
  },
  {
   "attachments": {},
   "cell_type": "markdown",
   "metadata": {},
   "source": [
    "第一种读取TIff的方法\n"
   ]
  },
  {
   "cell_type": "code",
   "execution_count": 2,
   "metadata": {},
   "outputs": [],
   "source": [
    "from PIL import Image\n",
    "data = Image.open(\"data/Sample2/samples.tif\")\n",
    "\n",
    "print(data.format, data.size, data.mode)\n",
    "print(32*\"-\")\n",
    "print(data.info)\n"
   ]
  },
  {
   "attachments": {},
   "cell_type": "markdown",
   "metadata": {},
   "source": [
    "第二种方式打开tiff\n"
   ]
  },
  {
   "cell_type": "code",
   "execution_count": 11,
   "metadata": {},
   "outputs": [],
   "source": [
    "tif = TIFF.open('data/Sample2/samples.tif', mode='r')\n",
    "tifLst = list(tif.iter_images()) \n",
    "tifArr = np.zeros((len(tifLst), tifLst[0].shape[0], tifLst[0].shape[1]))\n"
   ]
  },
  {
   "attachments": {},
   "cell_type": "markdown",
   "metadata": {},
   "source": [
    "第三种打开tiff的方法\n"
   ]
  },
  {
   "cell_type": "code",
   "execution_count": 6,
   "metadata": {},
   "outputs": [],
   "source": [
    "import cv2\n",
    "\n",
    "img = cv2.imread('data/Sample2/samples.tif')\n",
    "\n"
   ]
  },
  {
   "cell_type": "code",
   "execution_count": 7,
   "metadata": {},
   "outputs": [
    {
     "data": {
      "text/plain": [
       "<memory at 0x00000178FF29F6D0>"
      ]
     },
     "execution_count": 7,
     "metadata": {},
     "output_type": "execute_result"
    }
   ],
   "source": []
  },
  {
   "cell_type": "code",
   "execution_count": 8,
   "metadata": {},
   "outputs": [],
   "source": [
    "img1 = torch.from_numpy(img)\n"
   ]
  },
  {
   "cell_type": "code",
   "execution_count": 12,
   "metadata": {},
   "outputs": [],
   "source": [
    "## Read the data\n",
    "\n",
    "class MyDataSet(Dataset):\n",
    "    # Parameters and their form vary according to program needs\n",
    "    def __init__(self, pathLst, transform):\n",
    "        dataPath, labelPath = pathLst\n",
    "        self.tifStreamData, self.tifStreamLabel = [], []\n",
    "        dataFiles, labelFiles = os.listdir(dataPath), os.listdir(labelPath)\n",
    "        # sorted by name order, such as LR_20.tif\n",
    "        dataFiles.sort(key=lambda x: int(x[3:-4]))\n",
    "        for dataFile in dataFiles:\n",
    "            dataFileName = os.path.join(dataPath, dataFile)\n",
    "            self.tifStreamData.append(tiff2Stack(dataFileName, transform))\n",
    "\n",
    "        labelFiles.sort(key=lambda x: int(x[3:-4]))\n",
    "        for labelFile in labelFiles:\n",
    "            labelFileName = os.path.join(labelPath, labelFile)\n",
    "            self.tifStreamLabel.append(tiff2Stack(labelFileName, transform))\n",
    "        assert len(self.tifStreamData) == len(\n",
    "            self.tifStreamLabel)    # check length\n",
    "\n",
    "    def __len__(self):\n",
    "        return len(self.tifStreamData)\n",
    "\n",
    "    def __getitem__(self, idx):\n",
    "        data, label = self.tifStreamData, self.tifStreamLabel\n",
    "        return data[idx], label[idx]\n",
    "\n",
    "\n",
    "def tiff2Stack(fileName, transform=None):  # read tif, data transform, output tensor\n",
    "    tif = TIFF.open(fileName, mode='r')\n",
    "    tifLst = list(tif.iter_images())  # (51,101,101)\n",
    "    tifArr = np.zeros((len(tifLst), tifLst[0].shape[0], tifLst[0].shape[1]))\n",
    "\n",
    "    for i, img in enumerate(list(tif.iter_images())):\n",
    "        # avoid that \"can't convert np.ndarray of type numpy.uint16.\"\n",
    "        tifArr[i, :, :] = img/1.0\n",
    "    if transform:\n",
    "        tifArr = transform(tifArr)\n",
    "    return tifArr\n"
   ]
  },
  {
   "cell_type": "code",
   "execution_count": 13,
   "metadata": {},
   "outputs": [],
   "source": [
    "data_read = tiff2Stack(\"data/Sample2/samples.tif\")"
   ]
  },
  {
   "cell_type": "code",
   "execution_count": null,
   "metadata": {},
   "outputs": [],
   "source": []
  }
 ],
 "metadata": {
  "kernelspec": {
   "display_name": "pytorch",
   "language": "python",
   "name": "python3"
  },
  "language_info": {
   "codemirror_mode": {
    "name": "ipython",
    "version": 3
   },
   "file_extension": ".py",
   "mimetype": "text/x-python",
   "name": "python",
   "nbconvert_exporter": "python",
   "pygments_lexer": "ipython3",
   "version": "3.9.13"
  },
  "orig_nbformat": 4
 },
 "nbformat": 4,
 "nbformat_minor": 2
}
